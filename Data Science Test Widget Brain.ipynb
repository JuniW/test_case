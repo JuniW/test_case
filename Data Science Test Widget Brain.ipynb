{
 "cells": [
  {
   "cell_type": "markdown",
   "metadata": {},
   "source": [
    "# Data Science Test Widget Brain.\n",
    "\n",
    "This assignment focuses on transshipments of a certain port. Each day, many vessels arrive in this port and are served by some stevedore(s). Four cargo types have been identified (ore, coal, oil, and petroleum), and vessels often carry a mixture of cargo types. For each unique vessel arrival (i.e. each row in the data), we would like a prediction of how much it transships (total of load & discharge activities) per cargo type. Variables of interest therefore are: discharge1, load1, discharge2, load2, discharge3, load3, discharge4 and load4. \n",
    "\n",
    "The data for this case is stored in ‘VesselData.csv’ and contains historical data. \n",
    "\n",
    "We would like you to provide us with a Jupyter notebook or Python script with the results of your endeavors, well enriched with comments elaborating on the steps taken, even if they did not lead you anywhere, and try to motivate your actions as much as possible. We would like to understand the approach you have taken and your line of thought."
   ]
  },
  {
   "cell_type": "markdown",
   "metadata": {},
   "source": [
    "Explanation of variables in the data:\n",
    "\n",
    "| Variable | Explanation   |\n",
    "|:-----|:-----|\n",
    "|   eta  | Estimated time of arrival of vessel|\n",
    "|  ata  | Actual time of arrival of vessel |\n",
    "|atd\t |           Actual time of departure of vessel |\n",
    "|vesseldwt|\t    Vessel deadweight tonnage|\n",
    "|vesseltype|\t    Vessel type|\n",
    "|discharge[x]|\tDischarge amount of cargo type x|\n",
    "|load[x]\t  |      Load amount of cargo type x|\n",
    "|stevedorenames|\t(Anonymized) stevedore ID’s visited by vessel|\n",
    "|hasnohamis\t   | Boolean whether vessel has the HaMIS notification system|\n",
    "|earliesteta|\t    Estimated time of arrival of first entry to port|\n",
    "|latesteta\t |   Estimated time of arrival of last entry to port (vessel can spread transshipment(s) over multiple days)|\n",
    "|traveltype\t  |  Travel type|\n",
    "|previousportid|\tID of previous port|\n",
    "|nextportid\t   | ID of next port|\n",
    "|isremarkable|\tBoolean whether there is anything remarkable regarding the vessel|\n",
    "|vesselid\t  |  Vessel ID|"
   ]
  },
  {
   "cell_type": "code",
   "execution_count": 1,
   "metadata": {},
   "outputs": [],
   "source": [
    "import pandas as pd\n",
    "import numpy as np\n",
    "import matplotlib.pyplot as plt\n",
    "from sklearn.linear_model import LinearRegression"
   ]
  },
  {
   "cell_type": "code",
   "execution_count": 2,
   "metadata": {},
   "outputs": [],
   "source": [
    "df =pd.read_csv(\"VesselData.csv\")"
   ]
  },
  {
   "cell_type": "code",
   "execution_count": 36,
   "metadata": {},
   "outputs": [
    {
     "output_type": "execute_result",
     "data": {
      "text/plain": [
       "<bound method NDFrame._add_numeric_operations.<locals>.any of eta               False\n",
       "ata               False\n",
       "atd               False\n",
       "vesseldwt          True\n",
       "vesseltype        False\n",
       "discharge1        False\n",
       "load1             False\n",
       "discharge2        False\n",
       "load2             False\n",
       "discharge3        False\n",
       "load3             False\n",
       "discharge4        False\n",
       "load4             False\n",
       "stevedorenames     True\n",
       "hasnohamis         True\n",
       "earliesteta       False\n",
       "latesteta         False\n",
       "traveltype        False\n",
       "previousportid    False\n",
       "nextportid        False\n",
       "isremarkable      False\n",
       "vesselid          False\n",
       "total1            False\n",
       "total2            False\n",
       "total3            False\n",
       "total4            False\n",
       "eta_weekday       False\n",
       "dtype: bool>"
      ]
     },
     "metadata": {},
     "execution_count": 36
    }
   ],
   "source": [
    "df.isna().any().any"
   ]
  },
  {
   "cell_type": "code",
   "execution_count": 3,
   "metadata": {},
   "outputs": [
    {
     "output_type": "execute_result",
     "data": {
      "text/plain": [
       "array([5, 3, 2, 4, 1], dtype=int64)"
      ]
     },
     "metadata": {},
     "execution_count": 3
    }
   ],
   "source": [
    "pd.unique(df['vesseltype'])"
   ]
  },
  {
   "cell_type": "code",
   "execution_count": 5,
   "metadata": {},
   "outputs": [],
   "source": [
    "# Create total activities for each cargo type.\n",
    "df[\"total1\"] = df[\"discharge1\"] + df[\"load1\"]\n",
    "df[\"total2\"] = df[\"discharge2\"] + df[\"load2\"]\n",
    "df[\"total3\"] = df[\"discharge3\"] + df[\"load3\"]\n",
    "df[\"total4\"] = df[\"discharge4\"] + df[\"load4\"]"
   ]
  },
  {
   "cell_type": "code",
   "execution_count": 7,
   "metadata": {},
   "outputs": [
    {
     "output_type": "execute_result",
     "data": {
      "text/plain": [
       "3022"
      ]
     },
     "metadata": {},
     "execution_count": 7
    }
   ],
   "source": [
    "len(pd.unique(df['vesselid']))"
   ]
  },
  {
   "cell_type": "code",
   "execution_count": 12,
   "metadata": {},
   "outputs": [
    {
     "output_type": "execute_result",
     "data": {
      "text/plain": [
       "'2017-04-15 00:00:00+00'"
      ]
     },
     "metadata": {},
     "execution_count": 12
    }
   ],
   "source": [
    "min(df[\"ata\"])"
   ]
  },
  {
   "cell_type": "code",
   "execution_count": 13,
   "metadata": {},
   "outputs": [
    {
     "output_type": "execute_result",
     "data": {
      "text/plain": [
       "'2017-11-15 00:00:00+00'"
      ]
     },
     "metadata": {},
     "execution_count": 13
    }
   ],
   "source": [
    "max(df[\"ata\"])"
   ]
  },
  {
   "cell_type": "code",
   "execution_count": 26,
   "metadata": {},
   "outputs": [
    {
     "output_type": "execute_result",
     "data": {
      "text/plain": [
       "eta                object\n",
       "ata                object\n",
       "atd                object\n",
       "vesseldwt         float64\n",
       "vesseltype          int64\n",
       "discharge1          int64\n",
       "load1               int64\n",
       "discharge2          int64\n",
       "load2               int64\n",
       "discharge3          int64\n",
       "load3               int64\n",
       "discharge4          int64\n",
       "load4               int64\n",
       "stevedorenames     object\n",
       "hasnohamis        float64\n",
       "earliesteta        object\n",
       "latesteta          object\n",
       "traveltype         object\n",
       "previousportid      int64\n",
       "nextportid          int64\n",
       "isremarkable       object\n",
       "vesselid            int64\n",
       "total1              int64\n",
       "total2              int64\n",
       "total3              int64\n",
       "total4              int64\n",
       "dtype: object"
      ]
     },
     "metadata": {},
     "execution_count": 26
    }
   ],
   "source": [
    "df.dtypes"
   ]
  },
  {
   "source": [
    "In the first iteration, a linear regression model could be used."
   ],
   "cell_type": "markdown",
   "metadata": {}
  },
  {
   "cell_type": "code",
   "execution_count": 38,
   "metadata": {},
   "outputs": [],
   "source": [
    "df[\"eta_weekday\"] =  pd.to_datetime(df[\"eta\"]).dt.weekday\n",
    "df[\"est_duration\"] = pd.to_datetime(df[\"latesteta\"]) - pd.to_datetime(df[\"earliesteta\"])\n",
    "# Encode the variables vesseltype, traveltype, previousportid, nextportid, isremarkable, vesselid into categorical variables\n",
    "# Choose the explanatory variables eta_weekday, vesseldwt, vesseltype, hasnohamis, est_duration, traveltype, previousportid, nextportid, isremarkable, vesselid, response variables total1, total2, total3, and total4\n",
    "# Split the dataset into trainingset, validation set and testset: 3:1:1 \n",
    "# Create a model class including the following functions. \n",
    "# For each response variable, fit the trainingset with a linear regression model \n",
    "# Validate the errors on the validation set, using MSE metrics.\n",
    "# Exam the coefficients and refine the model by removing least significant explantory variables. \n",
    "# Iterate until the errors are minimum.\n",
    "# Test the models "
   ]
  }
 ],
 "metadata": {
  "kernelspec": {
   "name": "python376jvsc74a57bd0b07e1bf690bda9c46e50cee8a528d2294dc3f9d2ee1e11f0656aaf1f94c15335",
   "display_name": "Python 3.7.6 64-bit ('base': conda)"
  },
  "language_info": {
   "codemirror_mode": {
    "name": "ipython",
    "version": 3
   },
   "file_extension": ".py",
   "mimetype": "text/x-python",
   "name": "python",
   "nbconvert_exporter": "python",
   "pygments_lexer": "ipython3",
   "version": "3.7.6"
  }
 },
 "nbformat": 4,
 "nbformat_minor": 2
}